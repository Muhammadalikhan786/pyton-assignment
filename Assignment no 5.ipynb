{
 "cells": [
  {
   "cell_type": "code",
   "execution_count": 4,
   "metadata": {},
   "outputs": [
    {
     "name": "stdout",
     "output_type": "stream",
     "text": [
      "24\n"
     ]
    }
   ],
   "source": [
    "#Question no 1 from Assignment no 5\n",
    "\n",
    "def factorial(n):\n",
    "    num = 1\n",
    "    while n > 0:\n",
    "        num *= n\n",
    "        n -= 1\n",
    "    return num\n",
    "\n",
    "print(factorial(4))"
   ]
  },
  {
   "cell_type": "code",
   "execution_count": 9,
   "metadata": {},
   "outputs": [
    {
     "name": "stdout",
     "output_type": "stream",
     "text": [
      "(3, 15)\n"
     ]
    }
   ],
   "source": [
    "#Question no 2 from Assignment no 5\n",
    "\n",
    "def upperLower(sentence):\n",
    "    uppercase = 0\n",
    "    lowercase = 0\n",
    "    for char in sentence:\n",
    "        if char.islower():\n",
    "            lowercase += 1\n",
    "        elif char.isupper():\n",
    "            uppercase += 1\n",
    "    return uppercase, lowercase\n",
    "\n",
    "print(upperLower(\"My name is Sufyan Baig\"))"
   ]
  },
  {
   "cell_type": "code",
   "execution_count": 10,
   "metadata": {},
   "outputs": [
    {
     "name": "stdout",
     "output_type": "stream",
     "text": [
      "[24, 44, 12, 44, 94, 22, 72, 34]\n"
     ]
    }
   ],
   "source": [
    "#Question no 3 from Assignment no 5\n",
    "\n",
    "def evenNum(nums):\n",
    "    li = []\n",
    "    for num in range(0,len(nums)):\n",
    "        if nums[num] % 2 == 0:\n",
    "            li.append(nums[num])\n",
    "    return li\n",
    "\n",
    "print(evenNum([24,44,47,12,21,65,44,85,95,94,22,72,34]))"
   ]
  },
  {
   "cell_type": "code",
   "execution_count": 12,
   "metadata": {},
   "outputs": [
    {
     "name": "stdout",
     "output_type": "stream",
     "text": [
      "Enter a word to test if it is pelindrome: mom\n",
      "You entered a palindrome.\n"
     ]
    }
   ],
   "source": [
    "#Question no 4 from Assignment no 5\n",
    "\n",
    "def checkPalindrome(c_word):\n",
    "    reverseWord = ''.join(reversed(c_word))\n",
    "    if c_word == reverseWord and c_word != \"\":\n",
    "        return \"You entered a palindrome.\"\n",
    "    else:\n",
    "        return \"It is'nt palindrome.\"\n",
    "\n",
    "    \n",
    "print(checkPalindrome(input(\"Enter a word to test if it is pelindrome: \")))"
   ]
  },
  {
   "cell_type": "code",
   "execution_count": 15,
   "metadata": {},
   "outputs": [
    {
     "name": "stdout",
     "output_type": "stream",
     "text": [
      "Enter any number to check if it is prime or not: 29\n",
      "It is a prime number.\n"
     ]
    }
   ],
   "source": [
    "#Question no 5 from Assignment no 5\n",
    "\n",
    "def isprime():\n",
    "    nums = int(input(\"Enter any number to check if it is prime or not: \"))\n",
    "    return prime(nums)\n",
    "\n",
    "def prime(nums):\n",
    "    if nums > 1:\n",
    "        for num in range(2,nums):\n",
    "            if (nums % num) == 0:\n",
    "                print(\"It is not a prime number.\")\n",
    "                break\n",
    "        else:\n",
    "            print(\"It is a prime number.\")\n",
    "\n",
    "isprime()"
   ]
  },
  {
   "cell_type": "code",
   "execution_count": 16,
   "metadata": {},
   "outputs": [
    {
     "name": "stdout",
     "output_type": "stream",
     "text": [
      "\n",
      "Enter an item to add it in your cart: \n",
      "or Press [ENTER] to finish: \n",
      "bike\n",
      "\n",
      "Enter an item to add it in your cart: \n",
      "or Press [ENTER] to finish: \n",
      "cycle\n",
      "\n",
      "Enter an item to add it in your cart: \n",
      "or Press [ENTER] to finish: \n",
      "burger\n",
      "\n",
      "Enter an item to add it in your cart: \n",
      "or Press [ENTER] to finish: \n",
      "cola\n",
      "\n",
      "Enter an item to add it in your cart: \n",
      "or Press [ENTER] to finish: \n",
      "mobile\n",
      "\n",
      "Enter an item to add it in your cart: \n",
      "or Press [ENTER] to finish: \n",
      "\n",
      "\n",
      "Items you have bought is:\n",
      "Bike\n",
      "Cycle\n",
      "Burger\n",
      "Cola\n",
      "Mobile\n",
      "\n"
     ]
    }
   ],
   "source": [
    "#Question no 6 from Assignment no 5\n",
    "\n",
    "def boughtITEM():\n",
    "    cart = []\n",
    "    while True:                                  \n",
    "        carts = input(\"\\nEnter an item to add it in your cart: \\nor Press [ENTER] to finish: \\n\")\n",
    "        if carts == \"\":\n",
    "            break\n",
    "        cart.append(carts)\n",
    "    item_list = \"\"\n",
    "    for item in range(0,len(cart)):\n",
    "        item_list = item_list + cart[item].title() + \"\\n\"\n",
    "    print(\"\\nItems you have bought is:\\n\"+item_list)\n",
    "\n",
    "boughtITEM()"
   ]
  },
  {
   "cell_type": "code",
   "execution_count": null,
   "metadata": {},
   "outputs": [],
   "source": []
  }
 ],
 "metadata": {
  "kernelspec": {
   "display_name": "Python 3",
   "language": "python",
   "name": "python3"
  },
  "language_info": {
   "codemirror_mode": {
    "name": "ipython",
    "version": 3
   },
   "file_extension": ".py",
   "mimetype": "text/x-python",
   "name": "python",
   "nbconvert_exporter": "python",
   "pygments_lexer": "ipython3",
   "version": "3.7.4"
  }
 },
 "nbformat": 4,
 "nbformat_minor": 2
}
